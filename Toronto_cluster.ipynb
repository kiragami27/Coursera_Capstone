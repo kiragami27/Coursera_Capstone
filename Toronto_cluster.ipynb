{
    "cells": [
        {
            "cell_type": "markdown",
            "metadata": {
                "collapsed": true
            },
            "source": "# <h1 align=center><font size = 5>Segmenting and Clustering Neighborhoods in Torronto</font></h1>"
        },
        {
            "cell_type": "markdown",
            "metadata": {},
            "source": "#### 1. Import numpy and pandas"
        },
        {
            "cell_type": "code",
            "execution_count": 84,
            "metadata": {
                "scrolled": true
            },
            "outputs": [],
            "source": "import numpy as np # library to handle data in a vectorized manner\nimport pandas as pd # library for data analsysis"
        },
        {
            "cell_type": "markdown",
            "metadata": {},
            "source": "#### 2. Read Wikipedia\nCheck the number of table"
        },
        {
            "cell_type": "code",
            "execution_count": 85,
            "metadata": {},
            "outputs": [
                {
                    "data": {
                        "text/plain": "3"
                    },
                    "execution_count": 85,
                    "metadata": {},
                    "output_type": "execute_result"
                }
            ],
            "source": "URL=\"https://en.wikipedia.org/wiki/List_of_postal_codes_of_Canada:_M\"\ndf_wiki=pd.read_html(URL)\nlen(df_wiki)"
        },
        {
            "cell_type": "markdown",
            "metadata": {},
            "source": "check the dataframe"
        },
        {
            "cell_type": "code",
            "execution_count": 86,
            "metadata": {},
            "outputs": [
                {
                    "data": {
                        "text/html": "<div>\n<style scoped>\n    .dataframe tbody tr th:only-of-type {\n        vertical-align: middle;\n    }\n\n    .dataframe tbody tr th {\n        vertical-align: top;\n    }\n\n    .dataframe thead th {\n        text-align: right;\n    }\n</style>\n<table border=\"1\" class=\"dataframe\">\n  <thead>\n    <tr style=\"text-align: right;\">\n      <th></th>\n      <th>Postal Code</th>\n      <th>Borough</th>\n      <th>Neighbourhood</th>\n    </tr>\n  </thead>\n  <tbody>\n    <tr>\n      <th>0</th>\n      <td>M1A</td>\n      <td>Not assigned</td>\n      <td>Not assigned</td>\n    </tr>\n    <tr>\n      <th>1</th>\n      <td>M2A</td>\n      <td>Not assigned</td>\n      <td>Not assigned</td>\n    </tr>\n    <tr>\n      <th>2</th>\n      <td>M3A</td>\n      <td>North York</td>\n      <td>Parkwoods</td>\n    </tr>\n    <tr>\n      <th>3</th>\n      <td>M4A</td>\n      <td>North York</td>\n      <td>Victoria Village</td>\n    </tr>\n    <tr>\n      <th>4</th>\n      <td>M5A</td>\n      <td>Downtown Toronto</td>\n      <td>Regent Park, Harbourfront</td>\n    </tr>\n  </tbody>\n</table>\n</div>",
                        "text/plain": "  Postal Code           Borough              Neighbourhood\n0         M1A      Not assigned               Not assigned\n1         M2A      Not assigned               Not assigned\n2         M3A        North York                  Parkwoods\n3         M4A        North York           Victoria Village\n4         M5A  Downtown Toronto  Regent Park, Harbourfront"
                    },
                    "execution_count": 86,
                    "metadata": {},
                    "output_type": "execute_result"
                }
            ],
            "source": "df_wiki[0].head()"
        },
        {
            "cell_type": "markdown",
            "metadata": {},
            "source": "#### 3. Drop all the Not assigned Borough"
        },
        {
            "cell_type": "code",
            "execution_count": 126,
            "metadata": {},
            "outputs": [
                {
                    "data": {
                        "text/html": "<div>\n<style scoped>\n    .dataframe tbody tr th:only-of-type {\n        vertical-align: middle;\n    }\n\n    .dataframe tbody tr th {\n        vertical-align: top;\n    }\n\n    .dataframe thead th {\n        text-align: right;\n    }\n</style>\n<table border=\"1\" class=\"dataframe\">\n  <thead>\n    <tr style=\"text-align: right;\">\n      <th></th>\n      <th>Postal Code</th>\n      <th>Borough</th>\n      <th>Neighbourhood</th>\n    </tr>\n  </thead>\n  <tbody>\n    <tr>\n      <th>0</th>\n      <td>M3A</td>\n      <td>North York</td>\n      <td>Parkwoods</td>\n    </tr>\n    <tr>\n      <th>1</th>\n      <td>M4A</td>\n      <td>North York</td>\n      <td>Victoria Village</td>\n    </tr>\n    <tr>\n      <th>2</th>\n      <td>M5A</td>\n      <td>Downtown Toronto</td>\n      <td>Regent Park, Harbourfront</td>\n    </tr>\n    <tr>\n      <th>3</th>\n      <td>M6A</td>\n      <td>North York</td>\n      <td>Lawrence Manor, Lawrence Heights</td>\n    </tr>\n    <tr>\n      <th>4</th>\n      <td>M7A</td>\n      <td>Downtown Toronto</td>\n      <td>Queen's Park, Ontario Provincial Government</td>\n    </tr>\n  </tbody>\n</table>\n</div>",
                        "text/plain": "  Postal Code           Borough                                Neighbourhood\n0         M3A        North York                                    Parkwoods\n1         M4A        North York                             Victoria Village\n2         M5A  Downtown Toronto                    Regent Park, Harbourfront\n3         M6A        North York             Lawrence Manor, Lawrence Heights\n4         M7A  Downtown Toronto  Queen's Park, Ontario Provincial Government"
                    },
                    "execution_count": 126,
                    "metadata": {},
                    "output_type": "execute_result"
                }
            ],
            "source": "df_tor=df_wiki[0][df_wiki[0]['Borough']!='Not assigned'].reset_index(drop=True)\ndf_tor.head()"
        },
        {
            "cell_type": "markdown",
            "metadata": {},
            "source": "#### 4. Check if there is somme not assigned Neighbourhood"
        },
        {
            "cell_type": "code",
            "execution_count": 88,
            "metadata": {},
            "outputs": [
                {
                    "data": {
                        "text/html": "<div>\n<style scoped>\n    .dataframe tbody tr th:only-of-type {\n        vertical-align: middle;\n    }\n\n    .dataframe tbody tr th {\n        vertical-align: top;\n    }\n\n    .dataframe thead th {\n        text-align: right;\n    }\n</style>\n<table border=\"1\" class=\"dataframe\">\n  <thead>\n    <tr style=\"text-align: right;\">\n      <th></th>\n      <th>index</th>\n      <th>Postal Code</th>\n      <th>Borough</th>\n      <th>Neighbourhood</th>\n    </tr>\n  </thead>\n  <tbody>\n  </tbody>\n</table>\n</div>",
                        "text/plain": "Empty DataFrame\nColumns: [index, Postal Code, Borough, Neighbourhood]\nIndex: []"
                    },
                    "execution_count": 88,
                    "metadata": {},
                    "output_type": "execute_result"
                }
            ],
            "source": "df_tor[df_tor['Neighbourhood']=='Not assigned']"
        },
        {
            "cell_type": "markdown",
            "metadata": {},
            "source": "#### 5. Check the shape of the dataframe"
        },
        {
            "cell_type": "code",
            "execution_count": 89,
            "metadata": {},
            "outputs": [
                {
                    "data": {
                        "text/plain": "(103, 4)"
                    },
                    "execution_count": 89,
                    "metadata": {},
                    "output_type": "execute_result"
                }
            ],
            "source": "df_tor.shape"
        },
        {
            "cell_type": "markdown",
            "metadata": {},
            "source": "#### 6. define a fonction to call latitude and longitude"
        },
        {
            "cell_type": "code",
            "execution_count": 90,
            "metadata": {},
            "outputs": [
                {
                    "name": "stdout",
                    "output_type": "stream",
                    "text": "--2021-02-06 14:05:48--  https://cocl.us/Geospatial_data\nResolving cocl.us (cocl.us)... 169.63.96.194, 169.63.96.176\nConnecting to cocl.us (cocl.us)|169.63.96.194|:443... connected.\nHTTP request sent, awaiting response... 301 Moved Permanently\nLocation: https://ibm.box.com/shared/static/9afzr83pps4pwf2smjjcf1y5mvgb18rr.csv [following]\n--2021-02-06 14:05:49--  https://ibm.box.com/shared/static/9afzr83pps4pwf2smjjcf1y5mvgb18rr.csv\nResolving ibm.box.com (ibm.box.com)... 107.152.29.197\nConnecting to ibm.box.com (ibm.box.com)|107.152.29.197|:443... connected.\nHTTP request sent, awaiting response... 301 Moved Permanently\nLocation: /public/static/9afzr83pps4pwf2smjjcf1y5mvgb18rr.csv [following]\n--2021-02-06 14:05:49--  https://ibm.box.com/public/static/9afzr83pps4pwf2smjjcf1y5mvgb18rr.csv\nReusing existing connection to ibm.box.com:443.\nHTTP request sent, awaiting response... 301 Moved Permanently\nLocation: https://ibm.ent.box.com/public/static/9afzr83pps4pwf2smjjcf1y5mvgb18rr.csv [following]\n--2021-02-06 14:05:49--  https://ibm.ent.box.com/public/static/9afzr83pps4pwf2smjjcf1y5mvgb18rr.csv\nResolving ibm.ent.box.com (ibm.ent.box.com)... 185.235.236.201\nConnecting to ibm.ent.box.com (ibm.ent.box.com)|185.235.236.201|:443... connected.\nHTTP request sent, awaiting response... 302 Found\nLocation: https://public.boxcloud.com/d/1/b1!iZ9-mnPIjG_k3My90eR-8Ds0huR0s7uQT_s6-eAzS_Gy9uDUPYFaHfzVBB1oOjr21CyuLrYDZMMKZyxwltTOcD3kgfMd91jOZbb2XHzbD-EYsY8pqSrAJ0gaNRxTC1oxjDZHaCUXBNm8DlrB6ASO3UUxaG9aUBr2Pu3STk1sbsyg1t7ZBeJ-JguEW1AdHnTekwu6rh1kHcqtx1IZbccgWYLteq1BjTTSaTFidrXRZsC7gs_F-5UDaKByYZbB0p9xpaWviXMA6CnWONMGx-00MAAK2LcYff0UpZR8pE_8HFI-iIsv5UdXvTCX7_vQjZOyzNlc_YzpkU3B5QxUB06LJwF6oWCoC91uClVTEmgS8Nu9nIeT2skqM5xrBi28FDmYC1w70_Z9N8kV9Rm-qbKwonMUemWoKNKMCrLNAPsUSilJ3i26nFcXKKv9lFqq3aaOhznT8m0PqryA__3x_f4191Cc3hdmojPddLEhQgFWGqO9D7tx1KQ9K60unG00MqByt5AKShEZxpWvpwZhnLyUtr5qwj_rdPAEYeoIisEUA71bsAycTw6R1_pXcfqfL2nDXhBogx5a1oAhYnNIgfjrImMlomyraqIdu2408fUAht9dO_GC_VibkVkdRiGJcjwo6QeDWAdjA5Lc35xkLgS8Y3wJwxc_C2n8H5BeG3FWEPjIU3EzpD9R7X2uVszm6gOFJO0mmL1qCAWZ4BacI0aCCcdHhKH1j5Pz_H-gsTVpOAxNrsAt2lvvLYuCP1CourObDtiSwVjDQaQy0NEdd2TDaTey8OoKsRaHxUkpa72kGdI_0A4boO3h8t4Dn-4aYs4ByDEeytBbXi2n2ggNm61D-DzMH0t8_aN4JJdeL6TrBtJVLY8rcAAapjJ2wrSi1A6L1MES_nJ8hQ-6q3_zlkbIWRWktd123Zb8igwDayofgUfYh0yzKH0ioY_U2zbzrf7wVPt7dVckk6BFZNLuypgZBunknkANxfN5mxCHXXKD_G_6f-2JpGZ6ALFWCI3s-XzM5wXD62tKfewbli6QQ-1QpknZmYkF93b2X52ozUCkmnXepN_HvSnG0Dih9euw2wmqQujWIa3-EzkyBuLncuApRSwtLzs6XTqyXVWJmnevfxk9q-jEIIWJBnCWL7zhj0gFciCB94w_yP5hCZsRjhv9-2-mvhYZm5xsMcFV_RM6ZjVivAcSPdv4LIsMCMs4oyYmUT5eB526LQZke33lDp152JumYBusRF2xNJgBZZuSynk8qJC5QuJBy1JWIZ71dCHYYvmSNHYTiD85Ei-TiKKi9h2afwmQ-E8jFdAuq37_b3Dq35SzCTTfZAm_SLLFsYjgaw5oQuEctAEamSgdOFWN4s1duvKVg0JeaDQIgBI7_ZkTFJNJYJ7mvZt4hyP1x8BYm_SwceAS6yFXFvvTjsawzOSJlqm0oaLF6k0MRmLLPtxBEQ../download [following]\n--2021-02-06 14:05:50--  https://public.boxcloud.com/d/1/b1!iZ9-mnPIjG_k3My90eR-8Ds0huR0s7uQT_s6-eAzS_Gy9uDUPYFaHfzVBB1oOjr21CyuLrYDZMMKZyxwltTOcD3kgfMd91jOZbb2XHzbD-EYsY8pqSrAJ0gaNRxTC1oxjDZHaCUXBNm8DlrB6ASO3UUxaG9aUBr2Pu3STk1sbsyg1t7ZBeJ-JguEW1AdHnTekwu6rh1kHcqtx1IZbccgWYLteq1BjTTSaTFidrXRZsC7gs_F-5UDaKByYZbB0p9xpaWviXMA6CnWONMGx-00MAAK2LcYff0UpZR8pE_8HFI-iIsv5UdXvTCX7_vQjZOyzNlc_YzpkU3B5QxUB06LJwF6oWCoC91uClVTEmgS8Nu9nIeT2skqM5xrBi28FDmYC1w70_Z9N8kV9Rm-qbKwonMUemWoKNKMCrLNAPsUSilJ3i26nFcXKKv9lFqq3aaOhznT8m0PqryA__3x_f4191Cc3hdmojPddLEhQgFWGqO9D7tx1KQ9K60unG00MqByt5AKShEZxpWvpwZhnLyUtr5qwj_rdPAEYeoIisEUA71bsAycTw6R1_pXcfqfL2nDXhBogx5a1oAhYnNIgfjrImMlomyraqIdu2408fUAht9dO_GC_VibkVkdRiGJcjwo6QeDWAdjA5Lc35xkLgS8Y3wJwxc_C2n8H5BeG3FWEPjIU3EzpD9R7X2uVszm6gOFJO0mmL1qCAWZ4BacI0aCCcdHhKH1j5Pz_H-gsTVpOAxNrsAt2lvvLYuCP1CourObDtiSwVjDQaQy0NEdd2TDaTey8OoKsRaHxUkpa72kGdI_0A4boO3h8t4Dn-4aYs4ByDEeytBbXi2n2ggNm61D-DzMH0t8_aN4JJdeL6TrBtJVLY8rcAAapjJ2wrSi1A6L1MES_nJ8hQ-6q3_zlkbIWRWktd123Zb8igwDayofgUfYh0yzKH0ioY_U2zbzrf7wVPt7dVckk6BFZNLuypgZBunknkANxfN5mxCHXXKD_G_6f-2JpGZ6ALFWCI3s-XzM5wXD62tKfewbli6QQ-1QpknZmYkF93b2X52ozUCkmnXepN_HvSnG0Dih9euw2wmqQujWIa3-EzkyBuLncuApRSwtLzs6XTqyXVWJmnevfxk9q-jEIIWJBnCWL7zhj0gFciCB94w_yP5hCZsRjhv9-2-mvhYZm5xsMcFV_RM6ZjVivAcSPdv4LIsMCMs4oyYmUT5eB526LQZke33lDp152JumYBusRF2xNJgBZZuSynk8qJC5QuJBy1JWIZ71dCHYYvmSNHYTiD85Ei-TiKKi9h2afwmQ-E8jFdAuq37_b3Dq35SzCTTfZAm_SLLFsYjgaw5oQuEctAEamSgdOFWN4s1duvKVg0JeaDQIgBI7_ZkTFJNJYJ7mvZt4hyP1x8BYm_SwceAS6yFXFvvTjsawzOSJlqm0oaLF6k0MRmLLPtxBEQ../download\nResolving public.boxcloud.com (public.boxcloud.com)... 107.152.29.200\nConnecting to public.boxcloud.com (public.boxcloud.com)|107.152.29.200|:443... connected.\nHTTP request sent, awaiting response... 200 OK\nLength: 2891 (2.8K) [text/csv]\nSaving to: \u2018Geospatial_data.1\u2019\n\nGeospatial_data.1   100%[===================>]   2.82K  --.-KB/s    in 0s      \n\n2021-02-06 14:05:51 (64.2 MB/s) - \u2018Geospatial_data.1\u2019 saved [2891/2891]\n\n"
                }
            ],
            "source": "!wget https://cocl.us/Geospatial_data"
        },
        {
            "cell_type": "code",
            "execution_count": 91,
            "metadata": {},
            "outputs": [
                {
                    "data": {
                        "text/html": "<div>\n<style scoped>\n    .dataframe tbody tr th:only-of-type {\n        vertical-align: middle;\n    }\n\n    .dataframe tbody tr th {\n        vertical-align: top;\n    }\n\n    .dataframe thead th {\n        text-align: right;\n    }\n</style>\n<table border=\"1\" class=\"dataframe\">\n  <thead>\n    <tr style=\"text-align: right;\">\n      <th></th>\n      <th>Postal Code</th>\n      <th>Latitude</th>\n      <th>Longitude</th>\n    </tr>\n  </thead>\n  <tbody>\n    <tr>\n      <th>0</th>\n      <td>M1B</td>\n      <td>43.806686</td>\n      <td>-79.194353</td>\n    </tr>\n    <tr>\n      <th>1</th>\n      <td>M1C</td>\n      <td>43.784535</td>\n      <td>-79.160497</td>\n    </tr>\n    <tr>\n      <th>2</th>\n      <td>M1E</td>\n      <td>43.763573</td>\n      <td>-79.188711</td>\n    </tr>\n    <tr>\n      <th>3</th>\n      <td>M1G</td>\n      <td>43.770992</td>\n      <td>-79.216917</td>\n    </tr>\n    <tr>\n      <th>4</th>\n      <td>M1H</td>\n      <td>43.773136</td>\n      <td>-79.239476</td>\n    </tr>\n  </tbody>\n</table>\n</div>",
                        "text/plain": "  Postal Code   Latitude  Longitude\n0         M1B  43.806686 -79.194353\n1         M1C  43.784535 -79.160497\n2         M1E  43.763573 -79.188711\n3         M1G  43.770992 -79.216917\n4         M1H  43.773136 -79.239476"
                    },
                    "execution_count": 91,
                    "metadata": {},
                    "output_type": "execute_result"
                }
            ],
            "source": "geo_data= pd.read_csv('Geospatial_data')\ngeo_data.head()"
        },
        {
            "cell_type": "code",
            "execution_count": 104,
            "metadata": {},
            "outputs": [
                {
                    "name": "stdout",
                    "output_type": "stream",
                    "text": "geocoder function defined!\n"
                }
            ],
            "source": "def get_coord (postal_code):\n    \n    coordo=geo_data[geo_data['Postal Code']==postal_code]\n    coordo.reset_index(inplace=True)\n    latitude = coordo.at[0,'Latitude']\n    longitude = coordo.at[0,'Longitude']\n    #print('The geograpical coordinate of {} is {}, {}.'.format(postal_code,latitude, longitude))\n    return latitude, longitude\n\nprint('geocoder function defined!')"
        },
        {
            "cell_type": "code",
            "execution_count": 105,
            "metadata": {},
            "outputs": [
                {
                    "name": "stdout",
                    "output_type": "stream",
                    "text": "43.7709921\n"
                }
            ],
            "source": "lat,long=get_coord('M1G')\nprint(lat)"
        },
        {
            "cell_type": "code",
            "execution_count": null,
            "metadata": {},
            "outputs": [],
            "source": ""
        },
        {
            "cell_type": "markdown",
            "metadata": {},
            "source": "#### 7. Loop inside the dataframe and append the lat and long columns"
        },
        {
            "cell_type": "code",
            "execution_count": 127,
            "metadata": {},
            "outputs": [],
            "source": "coord=pd.DataFrame(columns=['latitude','longitude'])\ncoord.drop(coord.index,inplace=True)\nfor pc in df_tor['Postal Code']:\n    latitude, longitude = get_coord(pc)\n    coord_pc=pd.DataFrame([[latitude,longitude]],columns=['latitude','longitude'])\n    coord=coord.append(coord_pc)\n   \ncoord.shape\ncoord.reset_index(inplace=True,drop=True)"
        },
        {
            "cell_type": "code",
            "execution_count": 138,
            "metadata": {},
            "outputs": [
                {
                    "data": {
                        "text/html": "<div>\n<style scoped>\n    .dataframe tbody tr th:only-of-type {\n        vertical-align: middle;\n    }\n\n    .dataframe tbody tr th {\n        vertical-align: top;\n    }\n\n    .dataframe thead th {\n        text-align: right;\n    }\n</style>\n<table border=\"1\" class=\"dataframe\">\n  <thead>\n    <tr style=\"text-align: right;\">\n      <th></th>\n      <th>Postal Code</th>\n      <th>Borough</th>\n      <th>Neighbourhood</th>\n      <th>latitude</th>\n      <th>longitude</th>\n    </tr>\n  </thead>\n  <tbody>\n    <tr>\n      <th>0</th>\n      <td>M3A</td>\n      <td>North York</td>\n      <td>Parkwoods</td>\n      <td>43.753259</td>\n      <td>-79.329656</td>\n    </tr>\n    <tr>\n      <th>1</th>\n      <td>M4A</td>\n      <td>North York</td>\n      <td>Victoria Village</td>\n      <td>43.725882</td>\n      <td>-79.315572</td>\n    </tr>\n    <tr>\n      <th>2</th>\n      <td>M5A</td>\n      <td>Downtown Toronto</td>\n      <td>Regent Park, Harbourfront</td>\n      <td>43.654260</td>\n      <td>-79.360636</td>\n    </tr>\n    <tr>\n      <th>3</th>\n      <td>M6A</td>\n      <td>North York</td>\n      <td>Lawrence Manor, Lawrence Heights</td>\n      <td>43.718518</td>\n      <td>-79.464763</td>\n    </tr>\n    <tr>\n      <th>4</th>\n      <td>M7A</td>\n      <td>Downtown Toronto</td>\n      <td>Queen's Park, Ontario Provincial Government</td>\n      <td>43.662301</td>\n      <td>-79.389494</td>\n    </tr>\n  </tbody>\n</table>\n</div>",
                        "text/plain": "  Postal Code           Borough                                Neighbourhood  \\\n0         M3A        North York                                    Parkwoods   \n1         M4A        North York                             Victoria Village   \n2         M5A  Downtown Toronto                    Regent Park, Harbourfront   \n3         M6A        North York             Lawrence Manor, Lawrence Heights   \n4         M7A  Downtown Toronto  Queen's Park, Ontario Provincial Government   \n\n    latitude  longitude  \n0  43.753259 -79.329656  \n1  43.725882 -79.315572  \n2  43.654260 -79.360636  \n3  43.718518 -79.464763  \n4  43.662301 -79.389494  "
                    },
                    "execution_count": 138,
                    "metadata": {},
                    "output_type": "execute_result"
                }
            ],
            "source": "df_coord=pd.concat([df_tor, coord], axis=1)\ndf_coord.head()"
        },
        {
            "cell_type": "code",
            "execution_count": null,
            "metadata": {},
            "outputs": [],
            "source": ""
        },
        {
            "cell_type": "code",
            "execution_count": null,
            "metadata": {},
            "outputs": [],
            "source": ""
        }
    ],
    "metadata": {
        "kernelspec": {
            "display_name": "Python 3.7",
            "language": "python",
            "name": "python3"
        }
    },
    "nbformat": 4,
    "nbformat_minor": 1
}