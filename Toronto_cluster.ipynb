{
    "cells": [
        {
            "cell_type": "markdown",
            "metadata": {
                "collapsed": true
            },
            "source": "# <h1 align=center><font size = 5>Segmenting and Clustering Neighborhoods in Torronto</font></h1>"
        },
        {
            "cell_type": "markdown",
            "metadata": {},
            "source": "#### 1. Import numpy and pandas"
        },
        {
            "cell_type": "code",
            "execution_count": 84,
            "metadata": {
                "scrolled": true
            },
            "outputs": [],
            "source": "import numpy as np # library to handle data in a vectorized manner\nimport pandas as pd # library for data analsysis"
        },
        {
            "cell_type": "markdown",
            "metadata": {},
            "source": "#### 2. Read Wikipedia\nCheck the number of table"
        },
        {
            "cell_type": "code",
            "execution_count": 85,
            "metadata": {},
            "outputs": [
                {
                    "data": {
                        "text/plain": "3"
                    },
                    "execution_count": 85,
                    "metadata": {},
                    "output_type": "execute_result"
                }
            ],
            "source": "URL=\"https://en.wikipedia.org/wiki/List_of_postal_codes_of_Canada:_M\"\ndf_wiki=pd.read_html(URL)\nlen(df_wiki)"
        },
        {
            "cell_type": "markdown",
            "metadata": {},
            "source": "check the dataframe"
        },
        {
            "cell_type": "code",
            "execution_count": 86,
            "metadata": {},
            "outputs": [
                {
                    "data": {
                        "text/html": "<div>\n<style scoped>\n    .dataframe tbody tr th:only-of-type {\n        vertical-align: middle;\n    }\n\n    .dataframe tbody tr th {\n        vertical-align: top;\n    }\n\n    .dataframe thead th {\n        text-align: right;\n    }\n</style>\n<table border=\"1\" class=\"dataframe\">\n  <thead>\n    <tr style=\"text-align: right;\">\n      <th></th>\n      <th>Postal Code</th>\n      <th>Borough</th>\n      <th>Neighbourhood</th>\n    </tr>\n  </thead>\n  <tbody>\n    <tr>\n      <th>0</th>\n      <td>M1A</td>\n      <td>Not assigned</td>\n      <td>Not assigned</td>\n    </tr>\n    <tr>\n      <th>1</th>\n      <td>M2A</td>\n      <td>Not assigned</td>\n      <td>Not assigned</td>\n    </tr>\n    <tr>\n      <th>2</th>\n      <td>M3A</td>\n      <td>North York</td>\n      <td>Parkwoods</td>\n    </tr>\n    <tr>\n      <th>3</th>\n      <td>M4A</td>\n      <td>North York</td>\n      <td>Victoria Village</td>\n    </tr>\n    <tr>\n      <th>4</th>\n      <td>M5A</td>\n      <td>Downtown Toronto</td>\n      <td>Regent Park, Harbourfront</td>\n    </tr>\n  </tbody>\n</table>\n</div>",
                        "text/plain": "  Postal Code           Borough              Neighbourhood\n0         M1A      Not assigned               Not assigned\n1         M2A      Not assigned               Not assigned\n2         M3A        North York                  Parkwoods\n3         M4A        North York           Victoria Village\n4         M5A  Downtown Toronto  Regent Park, Harbourfront"
                    },
                    "execution_count": 86,
                    "metadata": {},
                    "output_type": "execute_result"
                }
            ],
            "source": "df_wiki[0].head()"
        },
        {
            "cell_type": "markdown",
            "metadata": {},
            "source": "#### 3. Drop all the Not assigned Borough"
        },
        {
            "cell_type": "code",
            "execution_count": 126,
            "metadata": {},
            "outputs": [
                {
                    "data": {
                        "text/html": "<div>\n<style scoped>\n    .dataframe tbody tr th:only-of-type {\n        vertical-align: middle;\n    }\n\n    .dataframe tbody tr th {\n        vertical-align: top;\n    }\n\n    .dataframe thead th {\n        text-align: right;\n    }\n</style>\n<table border=\"1\" class=\"dataframe\">\n  <thead>\n    <tr style=\"text-align: right;\">\n      <th></th>\n      <th>Postal Code</th>\n      <th>Borough</th>\n      <th>Neighbourhood</th>\n    </tr>\n  </thead>\n  <tbody>\n    <tr>\n      <th>0</th>\n      <td>M3A</td>\n      <td>North York</td>\n      <td>Parkwoods</td>\n    </tr>\n    <tr>\n      <th>1</th>\n      <td>M4A</td>\n      <td>North York</td>\n      <td>Victoria Village</td>\n    </tr>\n    <tr>\n      <th>2</th>\n      <td>M5A</td>\n      <td>Downtown Toronto</td>\n      <td>Regent Park, Harbourfront</td>\n    </tr>\n    <tr>\n      <th>3</th>\n      <td>M6A</td>\n      <td>North York</td>\n      <td>Lawrence Manor, Lawrence Heights</td>\n    </tr>\n    <tr>\n      <th>4</th>\n      <td>M7A</td>\n      <td>Downtown Toronto</td>\n      <td>Queen's Park, Ontario Provincial Government</td>\n    </tr>\n  </tbody>\n</table>\n</div>",
                        "text/plain": "  Postal Code           Borough                                Neighbourhood\n0         M3A        North York                                    Parkwoods\n1         M4A        North York                             Victoria Village\n2         M5A  Downtown Toronto                    Regent Park, Harbourfront\n3         M6A        North York             Lawrence Manor, Lawrence Heights\n4         M7A  Downtown Toronto  Queen's Park, Ontario Provincial Government"
                    },
                    "execution_count": 126,
                    "metadata": {},
                    "output_type": "execute_result"
                }
            ],
            "source": "df_tor=df_wiki[0][df_wiki[0]['Borough']!='Not assigned'].reset_index(drop=True)\ndf_tor.head()"
        },
        {
            "cell_type": "markdown",
            "metadata": {},
            "source": "#### 4. Check if there is somme not assigned Neighbourhood"
        },
        {
            "cell_type": "code",
            "execution_count": 88,
            "metadata": {},
            "outputs": [
                {
                    "data": {
                        "text/html": "<div>\n<style scoped>\n    .dataframe tbody tr th:only-of-type {\n        vertical-align: middle;\n    }\n\n    .dataframe tbody tr th {\n        vertical-align: top;\n    }\n\n    .dataframe thead th {\n        text-align: right;\n    }\n</style>\n<table border=\"1\" class=\"dataframe\">\n  <thead>\n    <tr style=\"text-align: right;\">\n      <th></th>\n      <th>index</th>\n      <th>Postal Code</th>\n      <th>Borough</th>\n      <th>Neighbourhood</th>\n    </tr>\n  </thead>\n  <tbody>\n  </tbody>\n</table>\n</div>",
                        "text/plain": "Empty DataFrame\nColumns: [index, Postal Code, Borough, Neighbourhood]\nIndex: []"
                    },
                    "execution_count": 88,
                    "metadata": {},
                    "output_type": "execute_result"
                }
            ],
            "source": "df_tor[df_tor['Neighbourhood']=='Not assigned']"
        },
        {
            "cell_type": "markdown",
            "metadata": {},
            "source": "#### 5. Check the shape of the dataframe"
        },
        {
            "cell_type": "code",
            "execution_count": 89,
            "metadata": {},
            "outputs": [
                {
                    "data": {
                        "text/plain": "(103, 4)"
                    },
                    "execution_count": 89,
                    "metadata": {},
                    "output_type": "execute_result"
                }
            ],
            "source": "df_tor.shape"
        },
        {
            "cell_type": "markdown",
            "metadata": {},
            "source": "#### 6. define a fonction to call latitude and longitude"
        },
        {
            "cell_type": "code",
            "execution_count": 90,
            "metadata": {},
            "outputs": [
                {
                    "name": "stdout",
                    "output_type": "stream",
                    "text": "--2021-02-06 14:05:48--  https://cocl.us/Geospatial_data\nResolving cocl.us (cocl.us)... 169.63.96.194, 169.63.96.176\nConnecting to cocl.us (cocl.us)|169.63.96.194|:443... connected.\nHTTP request sent, awaiting response... 301 Moved Permanently\nLocation: https://ibm.box.com/shared/static/9afzr83pps4pwf2smjjcf1y5mvgb18rr.csv [following]\n--2021-02-06 14:05:49--  https://ibm.box.com/shared/static/9afzr83pps4pwf2smjjcf1y5mvgb18rr.csv\nResolving ibm.box.com (ibm.box.com)... 107.152.29.197\nConnecting to ibm.box.com (ibm.box.com)|107.152.29.197|:443... connected.\nHTTP request sent, awaiting response... 301 Moved Permanently\nLocation: /public/static/9afzr83pps4pwf2smjjcf1y5mvgb18rr.csv [following]\n--2021-02-06 14:05:49--  https://ibm.box.com/public/static/9afzr83pps4pwf2smjjcf1y5mvgb18rr.csv\nReusing existing connection to ibm.box.com:443.\nHTTP request sent, awaiting response... 301 Moved Permanently\nLocation: https://ibm.ent.box.com/public/static/9afzr83pps4pwf2smjjcf1y5mvgb18rr.csv [following]\n--2021-02-06 14:05:49--  https://ibm.ent.box.com/public/static/9afzr83pps4pwf2smjjcf1y5mvgb18rr.csv\nResolving ibm.ent.box.com (ibm.ent.box.com)... 185.235.236.201\nConnecting to ibm.ent.box.com (ibm.ent.box.com)|185.235.236.201|:443... connected.\nHTTP request sent, awaiting response... 302 Found\nLocation: https://public.boxcloud.com/d/1/b1!iZ9-mnPIjG_k3My90eR-8Ds0huR0s7uQT_s6-eAzS_Gy9uDUPYFaHfzVBB1oOjr21CyuLrYDZMMKZyxwltTOcD3kgfMd91jOZbb2XHzbD-EYsY8pqSrAJ0gaNRxTC1oxjDZHaCUXBNm8DlrB6ASO3UUxaG9aUBr2Pu3STk1sbsyg1t7ZBeJ-JguEW1AdHnTekwu6rh1kHcqtx1IZbccgWYLteq1BjTTSaTFidrXRZsC7gs_F-5UDaKByYZbB0p9xpaWviXMA6CnWONMGx-00MAAK2LcYff0UpZR8pE_8HFI-iIsv5UdXvTCX7_vQjZOyzNlc_YzpkU3B5QxUB06LJwF6oWCoC91uClVTEmgS8Nu9nIeT2skqM5xrBi28FDmYC1w70_Z9N8kV9Rm-qbKwonMUemWoKNKMCrLNAPsUSilJ3i26nFcXKKv9lFqq3aaOhznT8m0PqryA__3x_f4191Cc3hdmojPddLEhQgFWGqO9D7tx1KQ9K60unG00MqByt5AKShEZxpWvpwZhnLyUtr5qwj_rdPAEYeoIisEUA71bsAycTw6R1_pXcfqfL2nDXhBogx5a1oAhYnNIgfjrImMlomyraqIdu2408fUAht9dO_GC_VibkVkdRiGJcjwo6QeDWAdjA5Lc35xkLgS8Y3wJwxc_C2n8H5BeG3FWEPjIU3EzpD9R7X2uVszm6gOFJO0mmL1qCAWZ4BacI0aCCcdHhKH1j5Pz_H-gsTVpOAxNrsAt2lvvLYuCP1CourObDtiSwVjDQaQy0NEdd2TDaTey8OoKsRaHxUkpa72kGdI_0A4boO3h8t4Dn-4aYs4ByDEeytBbXi2n2ggNm61D-DzMH0t8_aN4JJdeL6TrBtJVLY8rcAAapjJ2wrSi1A6L1MES_nJ8hQ-6q3_zlkbIWRWktd123Zb8igwDayofgUfYh0yzKH0ioY_U2zbzrf7wVPt7dVckk6BFZNLuypgZBunknkANxfN5mxCHXXKD_G_6f-2JpGZ6ALFWCI3s-XzM5wXD62tKfewbli6QQ-1QpknZmYkF93b2X52ozUCkmnXepN_HvSnG0Dih9euw2wmqQujWIa3-EzkyBuLncuApRSwtLzs6XTqyXVWJmnevfxk9q-jEIIWJBnCWL7zhj0gFciCB94w_yP5hCZsRjhv9-2-mvhYZm5xsMcFV_RM6ZjVivAcSPdv4LIsMCMs4oyYmUT5eB526LQZke33lDp152JumYBusRF2xNJgBZZuSynk8qJC5QuJBy1JWIZ71dCHYYvmSNHYTiD85Ei-TiKKi9h2afwmQ-E8jFdAuq37_b3Dq35SzCTTfZAm_SLLFsYjgaw5oQuEctAEamSgdOFWN4s1duvKVg0JeaDQIgBI7_ZkTFJNJYJ7mvZt4hyP1x8BYm_SwceAS6yFXFvvTjsawzOSJlqm0oaLF6k0MRmLLPtxBEQ../download [following]\n--2021-02-06 14:05:50--  https://public.boxcloud.com/d/1/b1!iZ9-mnPIjG_k3My90eR-8Ds0huR0s7uQT_s6-eAzS_Gy9uDUPYFaHfzVBB1oOjr21CyuLrYDZMMKZyxwltTOcD3kgfMd91jOZbb2XHzbD-EYsY8pqSrAJ0gaNRxTC1oxjDZHaCUXBNm8DlrB6ASO3UUxaG9aUBr2Pu3STk1sbsyg1t7ZBeJ-JguEW1AdHnTekwu6rh1kHcqtx1IZbccgWYLteq1BjTTSaTFidrXRZsC7gs_F-5UDaKByYZbB0p9xpaWviXMA6CnWONMGx-00MAAK2LcYff0UpZR8pE_8HFI-iIsv5UdXvTCX7_vQjZOyzNlc_YzpkU3B5QxUB06LJwF6oWCoC91uClVTEmgS8Nu9nIeT2skqM5xrBi28FDmYC1w70_Z9N8kV9Rm-qbKwonMUemWoKNKMCrLNAPsUSilJ3i26nFcXKKv9lFqq3aaOhznT8m0PqryA__3x_f4191Cc3hdmojPddLEhQgFWGqO9D7tx1KQ9K60unG00MqByt5AKShEZxpWvpwZhnLyUtr5qwj_rdPAEYeoIisEUA71bsAycTw6R1_pXcfqfL2nDXhBogx5a1oAhYnNIgfjrImMlomyraqIdu2408fUAht9dO_GC_VibkVkdRiGJcjwo6QeDWAdjA5Lc35xkLgS8Y3wJwxc_C2n8H5BeG3FWEPjIU3EzpD9R7X2uVszm6gOFJO0mmL1qCAWZ4BacI0aCCcdHhKH1j5Pz_H-gsTVpOAxNrsAt2lvvLYuCP1CourObDtiSwVjDQaQy0NEdd2TDaTey8OoKsRaHxUkpa72kGdI_0A4boO3h8t4Dn-4aYs4ByDEeytBbXi2n2ggNm61D-DzMH0t8_aN4JJdeL6TrBtJVLY8rcAAapjJ2wrSi1A6L1MES_nJ8hQ-6q3_zlkbIWRWktd123Zb8igwDayofgUfYh0yzKH0ioY_U2zbzrf7wVPt7dVckk6BFZNLuypgZBunknkANxfN5mxCHXXKD_G_6f-2JpGZ6ALFWCI3s-XzM5wXD62tKfewbli6QQ-1QpknZmYkF93b2X52ozUCkmnXepN_HvSnG0Dih9euw2wmqQujWIa3-EzkyBuLncuApRSwtLzs6XTqyXVWJmnevfxk9q-jEIIWJBnCWL7zhj0gFciCB94w_yP5hCZsRjhv9-2-mvhYZm5xsMcFV_RM6ZjVivAcSPdv4LIsMCMs4oyYmUT5eB526LQZke33lDp152JumYBusRF2xNJgBZZuSynk8qJC5QuJBy1JWIZ71dCHYYvmSNHYTiD85Ei-TiKKi9h2afwmQ-E8jFdAuq37_b3Dq35SzCTTfZAm_SLLFsYjgaw5oQuEctAEamSgdOFWN4s1duvKVg0JeaDQIgBI7_ZkTFJNJYJ7mvZt4hyP1x8BYm_SwceAS6yFXFvvTjsawzOSJlqm0oaLF6k0MRmLLPtxBEQ../download\nResolving public.boxcloud.com (public.boxcloud.com)... 107.152.29.200\nConnecting to public.boxcloud.com (public.boxcloud.com)|107.152.29.200|:443... connected.\nHTTP request sent, awaiting response... 200 OK\nLength: 2891 (2.8K) [text/csv]\nSaving to: \u2018Geospatial_data.1\u2019\n\nGeospatial_data.1   100%[===================>]   2.82K  --.-KB/s    in 0s      \n\n2021-02-06 14:05:51 (64.2 MB/s) - \u2018Geospatial_data.1\u2019 saved [2891/2891]\n\n"
                }
            ],
            "source": "!wget https://cocl.us/Geospatial_data"
        },
        {
            "cell_type": "code",
            "execution_count": 91,
            "metadata": {},
            "outputs": [
                {
                    "data": {
                        "text/html": "<div>\n<style scoped>\n    .dataframe tbody tr th:only-of-type {\n        vertical-align: middle;\n    }\n\n    .dataframe tbody tr th {\n        vertical-align: top;\n    }\n\n    .dataframe thead th {\n        text-align: right;\n    }\n</style>\n<table border=\"1\" class=\"dataframe\">\n  <thead>\n    <tr style=\"text-align: right;\">\n      <th></th>\n      <th>Postal Code</th>\n      <th>Latitude</th>\n      <th>Longitude</th>\n    </tr>\n  </thead>\n  <tbody>\n    <tr>\n      <th>0</th>\n      <td>M1B</td>\n      <td>43.806686</td>\n      <td>-79.194353</td>\n    </tr>\n    <tr>\n      <th>1</th>\n      <td>M1C</td>\n      <td>43.784535</td>\n      <td>-79.160497</td>\n    </tr>\n    <tr>\n      <th>2</th>\n      <td>M1E</td>\n      <td>43.763573</td>\n      <td>-79.188711</td>\n    </tr>\n    <tr>\n      <th>3</th>\n      <td>M1G</td>\n      <td>43.770992</td>\n      <td>-79.216917</td>\n    </tr>\n    <tr>\n      <th>4</th>\n      <td>M1H</td>\n      <td>43.773136</td>\n      <td>-79.239476</td>\n    </tr>\n  </tbody>\n</table>\n</div>",
                        "text/plain": "  Postal Code   Latitude  Longitude\n0         M1B  43.806686 -79.194353\n1         M1C  43.784535 -79.160497\n2         M1E  43.763573 -79.188711\n3         M1G  43.770992 -79.216917\n4         M1H  43.773136 -79.239476"
                    },
                    "execution_count": 91,
                    "metadata": {},
                    "output_type": "execute_result"
                }
            ],
            "source": "geo_data= pd.read_csv('Geospatial_data')\ngeo_data.head()"
        },
        {
            "cell_type": "code",
            "execution_count": 104,
            "metadata": {},
            "outputs": [
                {
                    "name": "stdout",
                    "output_type": "stream",
                    "text": "geocoder function defined!\n"
                }
            ],
            "source": "def get_coord (postal_code):\n    \n    coordo=geo_data[geo_data['Postal Code']==postal_code]\n    coordo.reset_index(inplace=True)\n    latitude = coordo.at[0,'Latitude']\n    longitude = coordo.at[0,'Longitude']\n    #print('The geograpical coordinate of {} is {}, {}.'.format(postal_code,latitude, longitude))\n    return latitude, longitude\n\nprint('geocoder function defined!')"
        },
        {
            "cell_type": "code",
            "execution_count": 105,
            "metadata": {},
            "outputs": [
                {
                    "name": "stdout",
                    "output_type": "stream",
                    "text": "43.7709921\n"
                }
            ],
            "source": "lat,long=get_coord('M1G')\nprint(lat)"
        },
        {
            "cell_type": "code",
            "execution_count": null,
            "metadata": {},
            "outputs": [],
            "source": ""
        },
        {
            "cell_type": "markdown",
            "metadata": {},
            "source": "#### 7. Loop inside the dataframe and append the lat and long columns"
        },
        {
            "cell_type": "code",
            "execution_count": 127,
            "metadata": {},
            "outputs": [],
            "source": "coord=pd.DataFrame(columns=['latitude','longitude'])\ncoord.drop(coord.index,inplace=True)\nfor pc in df_tor['Postal Code']:\n    latitude, longitude = get_coord(pc)\n    coord_pc=pd.DataFrame([[latitude,longitude]],columns=['latitude','longitude'])\n    coord=coord.append(coord_pc)\n   \ncoord.shape\ncoord.reset_index(inplace=True,drop=True)"
        },
        {
            "cell_type": "code",
            "execution_count": 138,
            "metadata": {},
            "outputs": [
                {
                    "data": {
                        "text/html": "<div>\n<style scoped>\n    .dataframe tbody tr th:only-of-type {\n        vertical-align: middle;\n    }\n\n    .dataframe tbody tr th {\n        vertical-align: top;\n    }\n\n    .dataframe thead th {\n        text-align: right;\n    }\n</style>\n<table border=\"1\" class=\"dataframe\">\n  <thead>\n    <tr style=\"text-align: right;\">\n      <th></th>\n      <th>Postal Code</th>\n      <th>Borough</th>\n      <th>Neighbourhood</th>\n      <th>latitude</th>\n      <th>longitude</th>\n    </tr>\n  </thead>\n  <tbody>\n    <tr>\n      <th>0</th>\n      <td>M3A</td>\n      <td>North York</td>\n      <td>Parkwoods</td>\n      <td>43.753259</td>\n      <td>-79.329656</td>\n    </tr>\n    <tr>\n      <th>1</th>\n      <td>M4A</td>\n      <td>North York</td>\n      <td>Victoria Village</td>\n      <td>43.725882</td>\n      <td>-79.315572</td>\n    </tr>\n    <tr>\n      <th>2</th>\n      <td>M5A</td>\n      <td>Downtown Toronto</td>\n      <td>Regent Park, Harbourfront</td>\n      <td>43.654260</td>\n      <td>-79.360636</td>\n    </tr>\n    <tr>\n      <th>3</th>\n      <td>M6A</td>\n      <td>North York</td>\n      <td>Lawrence Manor, Lawrence Heights</td>\n      <td>43.718518</td>\n      <td>-79.464763</td>\n    </tr>\n    <tr>\n      <th>4</th>\n      <td>M7A</td>\n      <td>Downtown Toronto</td>\n      <td>Queen's Park, Ontario Provincial Government</td>\n      <td>43.662301</td>\n      <td>-79.389494</td>\n    </tr>\n  </tbody>\n</table>\n</div>",
                        "text/plain": "  Postal Code           Borough                                Neighbourhood  \\\n0         M3A        North York                                    Parkwoods   \n1         M4A        North York                             Victoria Village   \n2         M5A  Downtown Toronto                    Regent Park, Harbourfront   \n3         M6A        North York             Lawrence Manor, Lawrence Heights   \n4         M7A  Downtown Toronto  Queen's Park, Ontario Provincial Government   \n\n    latitude  longitude  \n0  43.753259 -79.329656  \n1  43.725882 -79.315572  \n2  43.654260 -79.360636  \n3  43.718518 -79.464763  \n4  43.662301 -79.389494  "
                    },
                    "execution_count": 138,
                    "metadata": {},
                    "output_type": "execute_result"
                }
            ],
            "source": "df_coord=pd.concat([df_tor, coord], axis=1)\ndf_coord.head()"
        },
        {
            "cell_type": "markdown",
            "metadata": {},
            "source": "#### 8. Cluster Torronto"
        },
        {
            "cell_type": "code",
            "execution_count": 150,
            "metadata": {},
            "outputs": [
                {
                    "name": "stdout",
                    "output_type": "stream",
                    "text": "Requirement already satisfied: folium in /opt/conda/envs/Python-3.7-main/lib/python3.7/site-packages (0.12.1)\nRequirement already satisfied: branca>=0.3.0 in /opt/conda/envs/Python-3.7-main/lib/python3.7/site-packages (from folium) (0.4.2)\nRequirement already satisfied: requests in /opt/conda/envs/Python-3.7-main/lib/python3.7/site-packages (from folium) (2.24.0)\nRequirement already satisfied: jinja2>=2.9 in /opt/conda/envs/Python-3.7-main/lib/python3.7/site-packages (from folium) (2.11.2)\nRequirement already satisfied: numpy in /opt/conda/envs/Python-3.7-main/lib/python3.7/site-packages (from folium) (1.18.5)\nRequirement already satisfied: idna<3,>=2.5 in /opt/conda/envs/Python-3.7-main/lib/python3.7/site-packages (from requests->folium) (2.9)\nRequirement already satisfied: chardet<4,>=3.0.2 in /opt/conda/envs/Python-3.7-main/lib/python3.7/site-packages (from requests->folium) (3.0.4)\nRequirement already satisfied: certifi>=2017.4.17 in /opt/conda/envs/Python-3.7-main/lib/python3.7/site-packages (from requests->folium) (2020.12.5)\nRequirement already satisfied: urllib3!=1.25.0,!=1.25.1,<1.26,>=1.21.1 in /opt/conda/envs/Python-3.7-main/lib/python3.7/site-packages (from requests->folium) (1.25.9)\nRequirement already satisfied: MarkupSafe>=0.23 in /opt/conda/envs/Python-3.7-main/lib/python3.7/site-packages (from jinja2>=2.9->folium) (1.1.1)\n"
                }
            ],
            "source": "import json # library to handle JSON files\nfrom pandas.io.json import json_normalize # tranform JSON file into a pandas dataframe\n\n# Matplotlib and associated plotting modules\nimport matplotlib.cm as cm\nimport matplotlib.colors as colors\n\n# import k-means from clustering stage\nfrom sklearn.cluster import KMeans\n\n!pip install folium # uncomment this line if you haven't completed the Foursquare API lab\nimport folium # map rendering library\n\nimport requests "
        },
        {
            "cell_type": "code",
            "execution_count": 151,
            "metadata": {},
            "outputs": [
                {
                    "name": "stdout",
                    "output_type": "stream",
                    "text": "Your credentails:\nCLIENT_ID: FGSH10MP0DZPG3ZA1EYRSYRTVZ1Y53N2OG5H4CRMMK5QWO5C\nCLIENT_SECRET:4RAUQLYVUNRC3VVFJFGOJ4LEG5JCELXKIFSFDGMV3NZIT3WM\n"
                }
            ],
            "source": "CLIENT_ID = 'FGSH10MP0DZPG3ZA1EYRSYRTVZ1Y53N2OG5H4CRMMK5QWO5C' # your Foursquare ID\nCLIENT_SECRET = '4RAUQLYVUNRC3VVFJFGOJ4LEG5JCELXKIFSFDGMV3NZIT3WM' # your Foursquare Secret\nACCESS_TOKEN = 'SG5XPBYFBBHH5ZMIEP2DI0QADUGWAGW0YQEGN400KJ0WEPKY' # your FourSquare Access Token\nVERSION = '20180604'\nLIMIT = 100\nprint('Your credentails:')\nprint('CLIENT_ID: ' + CLIENT_ID)\nprint('CLIENT_SECRET:' + CLIENT_SECRET)"
        },
        {
            "cell_type": "markdown",
            "metadata": {},
            "source": "#### create a function to explore all the neighborhoods"
        },
        {
            "cell_type": "code",
            "execution_count": 152,
            "metadata": {},
            "outputs": [],
            "source": "def getNearbyVenues(names, latitudes, longitudes, radius=500):\n    \n    venues_list=[]\n    for name, lat, lng in zip(names, latitudes, longitudes):\n        print(name)\n            \n        # create the API request URL\n        url = 'https://api.foursquare.com/v2/venues/explore?&client_id={}&client_secret={}&v={}&ll={},{}&radius={}&limit={}'.format(\n            CLIENT_ID, \n            CLIENT_SECRET, \n            VERSION, \n            lat, \n            lng, \n            radius, \n            LIMIT)\n            \n        # make the GET request\n        results = requests.get(url).json()[\"response\"]['groups'][0]['items']\n        \n        # return only relevant information for each nearby venue\n        venues_list.append([(\n            name, \n            lat, \n            lng, \n            v['venue']['name'], \n            v['venue']['location']['lat'], \n            v['venue']['location']['lng'],  \n            v['venue']['categories'][0]['name']) for v in results])\n\n    nearby_venues = pd.DataFrame([item for venue_list in venues_list for item in venue_list])\n    nearby_venues.columns = ['Neighborhood', \n                  'Neighborhood Latitude', \n                  'Neighborhood Longitude', \n                  'Venue', \n                  'Venue Latitude', \n                  'Venue Longitude', \n                  'Venue Category']\n    \n    return(nearby_venues)"
        },
        {
            "cell_type": "code",
            "execution_count": 181,
            "metadata": {},
            "outputs": [
                {
                    "name": "stdout",
                    "output_type": "stream",
                    "text": "Parkwoods\nVictoria Village\nRegent Park, Harbourfront\nLawrence Manor, Lawrence Heights\nQueen's Park, Ontario Provincial Government\nIslington Avenue, Humber Valley Village\nMalvern, Rouge\nDon Mills\nParkview Hill, Woodbine Gardens\nGarden District, Ryerson\nGlencairn\nWest Deane Park, Princess Gardens, Martin Grove, Islington, Cloverdale\nRouge Hill, Port Union, Highland Creek\nDon Mills\nWoodbine Heights\nSt. James Town\nHumewood-Cedarvale\nEringate, Bloordale Gardens, Old Burnhamthorpe, Markland Wood\nGuildwood, Morningside, West Hill\nThe Beaches\nBerczy Park\nCaledonia-Fairbanks\nWoburn\nLeaside\nCentral Bay Street\nChristie\nCedarbrae\nHillcrest Village\nBathurst Manor, Wilson Heights, Downsview North\nThorncliffe Park\nRichmond, Adelaide, King\nDufferin, Dovercourt Village\nScarborough Village\nFairview, Henry Farm, Oriole\nNorthwood Park, York University\nEast Toronto, Broadview North (Old East York)\nHarbourfront East, Union Station, Toronto Islands\nLittle Portugal, Trinity\nKennedy Park, Ionview, East Birchmount Park\nBayview Village\nDownsview\nThe Danforth West, Riverdale\nToronto Dominion Centre, Design Exchange\nBrockton, Parkdale Village, Exhibition Place\nGolden Mile, Clairlea, Oakridge\nYork Mills, Silver Hills\nDownsview\nIndia Bazaar, The Beaches West\nCommerce Court, Victoria Hotel\nNorth Park, Maple Leaf Park, Upwood Park\nHumber Summit\nCliffside, Cliffcrest, Scarborough Village West\nWillowdale, Newtonbrook\nDownsview\nStudio District\nBedford Park, Lawrence Manor East\nDel Ray, Mount Dennis, Keelsdale and Silverthorn\nHumberlea, Emery\nBirch Cliff, Cliffside West\nWillowdale, Willowdale East\nDownsview\nLawrence Park\nRoselawn\nRunnymede, The Junction North\nWeston\nDorset Park, Wexford Heights, Scarborough Town Centre\nYork Mills West\nDavisville North\nForest Hill North & West, Forest Hill Road Park\nHigh Park, The Junction South\nWestmount\nWexford, Maryvale\nWillowdale, Willowdale West\nNorth Toronto West, Lawrence Park\nThe Annex, North Midtown, Yorkville\nParkdale, Roncesvalles\nCanada Post Gateway Processing Centre\nKingsview Village, St. Phillips, Martin Grove Gardens, Richview Gardens\nAgincourt\nDavisville\nUniversity of Toronto, Harbord\nRunnymede, Swansea\nClarks Corners, Tam O'Shanter, Sullivan\nMoore Park, Summerhill East\nKensington Market, Chinatown, Grange Park\nMilliken, Agincourt North, Steeles East, L'Amoreaux East\nSummerhill West, Rathnelly, South Hill, Forest Hill SE, Deer Park\nCN Tower, King and Spadina, Railway Lands, Harbourfront West, Bathurst Quay, South Niagara, Island airport\nNew Toronto, Mimico South, Humber Bay Shores\nSouth Steeles, Silverstone, Humbergate, Jamestown, Mount Olive, Beaumond Heights, Thistletown, Albion Gardens\nSteeles West, L'Amoreaux West\nRosedale\nStn A PO Boxes\nAlderwood, Long Branch\nNorthwest, West Humber - Clairville\nUpper Rouge\nSt. James Town, Cabbagetown\nFirst Canadian Place, Underground city\nThe Kingsway, Montgomery Road, Old Mill North\nChurch and Wellesley\nBusiness reply mail Processing Centre, South Central Letter Processing Plant Toronto\nOld Mill South, King's Mill Park, Sunnylea, Humber Bay, Mimico NE, The Queensway East, Royal York South East, Kingsway Park South East\nMimico NW, The Queensway West, South of Bloor, Kingsway Park South West, Royal York South West\n"
                }
            ],
            "source": "torronto_venues = getNearbyVenues(names=df_coord['Neighbourhood'],\n                                   latitudes=df_coord['latitude'],\n                                   longitudes=df_coord['longitude']\n                                  )"
        },
        {
            "cell_type": "code",
            "execution_count": 182,
            "metadata": {},
            "outputs": [
                {
                    "name": "stdout",
                    "output_type": "stream",
                    "text": "(2114, 7)\n"
                },
                {
                    "data": {
                        "text/html": "<div>\n<style scoped>\n    .dataframe tbody tr th:only-of-type {\n        vertical-align: middle;\n    }\n\n    .dataframe tbody tr th {\n        vertical-align: top;\n    }\n\n    .dataframe thead th {\n        text-align: right;\n    }\n</style>\n<table border=\"1\" class=\"dataframe\">\n  <thead>\n    <tr style=\"text-align: right;\">\n      <th></th>\n      <th>Neighborhood</th>\n      <th>Neighborhood Latitude</th>\n      <th>Neighborhood Longitude</th>\n      <th>Venue</th>\n      <th>Venue Latitude</th>\n      <th>Venue Longitude</th>\n      <th>Venue Category</th>\n    </tr>\n  </thead>\n  <tbody>\n    <tr>\n      <th>0</th>\n      <td>Parkwoods</td>\n      <td>43.753259</td>\n      <td>-79.329656</td>\n      <td>Brookbanks Park</td>\n      <td>43.751976</td>\n      <td>-79.332140</td>\n      <td>Park</td>\n    </tr>\n    <tr>\n      <th>1</th>\n      <td>Parkwoods</td>\n      <td>43.753259</td>\n      <td>-79.329656</td>\n      <td>Variety Store</td>\n      <td>43.751974</td>\n      <td>-79.333114</td>\n      <td>Food &amp; Drink Shop</td>\n    </tr>\n    <tr>\n      <th>2</th>\n      <td>Victoria Village</td>\n      <td>43.725882</td>\n      <td>-79.315572</td>\n      <td>Victoria Village Arena</td>\n      <td>43.723481</td>\n      <td>-79.315635</td>\n      <td>Hockey Arena</td>\n    </tr>\n    <tr>\n      <th>3</th>\n      <td>Victoria Village</td>\n      <td>43.725882</td>\n      <td>-79.315572</td>\n      <td>Portugril</td>\n      <td>43.725819</td>\n      <td>-79.312785</td>\n      <td>Portuguese Restaurant</td>\n    </tr>\n    <tr>\n      <th>4</th>\n      <td>Victoria Village</td>\n      <td>43.725882</td>\n      <td>-79.315572</td>\n      <td>Tim Hortons</td>\n      <td>43.725517</td>\n      <td>-79.313103</td>\n      <td>Coffee Shop</td>\n    </tr>\n  </tbody>\n</table>\n</div>",
                        "text/plain": "       Neighborhood  Neighborhood Latitude  Neighborhood Longitude  \\\n0         Parkwoods              43.753259              -79.329656   \n1         Parkwoods              43.753259              -79.329656   \n2  Victoria Village              43.725882              -79.315572   \n3  Victoria Village              43.725882              -79.315572   \n4  Victoria Village              43.725882              -79.315572   \n\n                    Venue  Venue Latitude  Venue Longitude  \\\n0         Brookbanks Park       43.751976       -79.332140   \n1           Variety Store       43.751974       -79.333114   \n2  Victoria Village Arena       43.723481       -79.315635   \n3               Portugril       43.725819       -79.312785   \n4             Tim Hortons       43.725517       -79.313103   \n\n          Venue Category  \n0                   Park  \n1      Food & Drink Shop  \n2           Hockey Arena  \n3  Portuguese Restaurant  \n4            Coffee Shop  "
                    },
                    "execution_count": 182,
                    "metadata": {},
                    "output_type": "execute_result"
                }
            ],
            "source": "print(torronto_venues.shape)\ntorronto_venues.head()"
        },
        {
            "cell_type": "code",
            "execution_count": 210,
            "metadata": {},
            "outputs": [
                {
                    "data": {
                        "text/html": "<div>\n<style scoped>\n    .dataframe tbody tr th:only-of-type {\n        vertical-align: middle;\n    }\n\n    .dataframe tbody tr th {\n        vertical-align: top;\n    }\n\n    .dataframe thead th {\n        text-align: right;\n    }\n</style>\n<table border=\"1\" class=\"dataframe\">\n  <thead>\n    <tr style=\"text-align: right;\">\n      <th></th>\n      <th>Neighborhood Latitude</th>\n      <th>Neighborhood Longitude</th>\n      <th>Venue</th>\n      <th>Venue Latitude</th>\n      <th>Venue Longitude</th>\n      <th>Venue Category</th>\n    </tr>\n    <tr>\n      <th>Neighborhood</th>\n      <th></th>\n      <th></th>\n      <th></th>\n      <th></th>\n      <th></th>\n      <th></th>\n    </tr>\n  </thead>\n  <tbody>\n    <tr>\n      <th>Agincourt</th>\n      <td>4</td>\n      <td>4</td>\n      <td>4</td>\n      <td>4</td>\n      <td>4</td>\n      <td>4</td>\n    </tr>\n    <tr>\n      <th>Alderwood, Long Branch</th>\n      <td>6</td>\n      <td>6</td>\n      <td>6</td>\n      <td>6</td>\n      <td>6</td>\n      <td>6</td>\n    </tr>\n    <tr>\n      <th>Bathurst Manor, Wilson Heights, Downsview North</th>\n      <td>24</td>\n      <td>24</td>\n      <td>24</td>\n      <td>24</td>\n      <td>24</td>\n      <td>24</td>\n    </tr>\n    <tr>\n      <th>Bayview Village</th>\n      <td>4</td>\n      <td>4</td>\n      <td>4</td>\n      <td>4</td>\n      <td>4</td>\n      <td>4</td>\n    </tr>\n    <tr>\n      <th>Bedford Park, Lawrence Manor East</th>\n      <td>23</td>\n      <td>23</td>\n      <td>23</td>\n      <td>23</td>\n      <td>23</td>\n      <td>23</td>\n    </tr>\n  </tbody>\n</table>\n</div>",
                        "text/plain": "                                                 Neighborhood Latitude  \\\nNeighborhood                                                             \nAgincourt                                                            4   \nAlderwood, Long Branch                                               6   \nBathurst Manor, Wilson Heights, Downsview North                     24   \nBayview Village                                                      4   \nBedford Park, Lawrence Manor East                                   23   \n\n                                                 Neighborhood Longitude  \\\nNeighborhood                                                              \nAgincourt                                                             4   \nAlderwood, Long Branch                                                6   \nBathurst Manor, Wilson Heights, Downsview North                      24   \nBayview Village                                                       4   \nBedford Park, Lawrence Manor East                                    23   \n\n                                                 Venue  Venue Latitude  \\\nNeighborhood                                                             \nAgincourt                                            4               4   \nAlderwood, Long Branch                               6               6   \nBathurst Manor, Wilson Heights, Downsview North     24              24   \nBayview Village                                      4               4   \nBedford Park, Lawrence Manor East                   23              23   \n\n                                                 Venue Longitude  \\\nNeighborhood                                                       \nAgincourt                                                      4   \nAlderwood, Long Branch                                         6   \nBathurst Manor, Wilson Heights, Downsview North               24   \nBayview Village                                                4   \nBedford Park, Lawrence Manor East                             23   \n\n                                                 Venue Category  \nNeighborhood                                                     \nAgincourt                                                     4  \nAlderwood, Long Branch                                        6  \nBathurst Manor, Wilson Heights, Downsview North              24  \nBayview Village                                               4  \nBedford Park, Lawrence Manor East                            23  "
                    },
                    "execution_count": 210,
                    "metadata": {},
                    "output_type": "execute_result"
                }
            ],
            "source": "torronto_venues.groupby('Neighborhood').count().head()"
        },
        {
            "cell_type": "markdown",
            "metadata": {},
            "source": "#### unique categories can be curated from all the returned venues"
        },
        {
            "cell_type": "code",
            "execution_count": 213,
            "metadata": {},
            "outputs": [
                {
                    "name": "stdout",
                    "output_type": "stream",
                    "text": "There are 273 uniques categories.\n"
                }
            ],
            "source": "print('There are {} uniques categories.'.format(len(torronto_venues['Venue Category'].unique())))"
        },
        {
            "cell_type": "code",
            "execution_count": 216,
            "metadata": {},
            "outputs": [
                {
                    "data": {
                        "text/html": "<div>\n<style scoped>\n    .dataframe tbody tr th:only-of-type {\n        vertical-align: middle;\n    }\n\n    .dataframe tbody tr th {\n        vertical-align: top;\n    }\n\n    .dataframe thead th {\n        text-align: right;\n    }\n</style>\n<table border=\"1\" class=\"dataframe\">\n  <thead>\n    <tr style=\"text-align: right;\">\n      <th></th>\n      <th>Yoga Studio</th>\n      <th>Accessories Store</th>\n      <th>Adult Boutique</th>\n      <th>Airport</th>\n      <th>Airport Food Court</th>\n      <th>Airport Gate</th>\n      <th>Airport Lounge</th>\n      <th>Airport Service</th>\n      <th>Airport Terminal</th>\n      <th>American Restaurant</th>\n      <th>...</th>\n      <th>Truck Stop</th>\n      <th>Turkish Restaurant</th>\n      <th>Vegetarian / Vegan Restaurant</th>\n      <th>Video Game Store</th>\n      <th>Video Store</th>\n      <th>Vietnamese Restaurant</th>\n      <th>Warehouse Store</th>\n      <th>Wine Bar</th>\n      <th>Wings Joint</th>\n      <th>Women's Store</th>\n    </tr>\n  </thead>\n  <tbody>\n    <tr>\n      <th>0</th>\n      <td>0</td>\n      <td>0</td>\n      <td>0</td>\n      <td>0</td>\n      <td>0</td>\n      <td>0</td>\n      <td>0</td>\n      <td>0</td>\n      <td>0</td>\n      <td>0</td>\n      <td>...</td>\n      <td>0</td>\n      <td>0</td>\n      <td>0</td>\n      <td>0</td>\n      <td>0</td>\n      <td>0</td>\n      <td>0</td>\n      <td>0</td>\n      <td>0</td>\n      <td>0</td>\n    </tr>\n    <tr>\n      <th>1</th>\n      <td>0</td>\n      <td>0</td>\n      <td>0</td>\n      <td>0</td>\n      <td>0</td>\n      <td>0</td>\n      <td>0</td>\n      <td>0</td>\n      <td>0</td>\n      <td>0</td>\n      <td>...</td>\n      <td>0</td>\n      <td>0</td>\n      <td>0</td>\n      <td>0</td>\n      <td>0</td>\n      <td>0</td>\n      <td>0</td>\n      <td>0</td>\n      <td>0</td>\n      <td>0</td>\n    </tr>\n    <tr>\n      <th>2</th>\n      <td>0</td>\n      <td>0</td>\n      <td>0</td>\n      <td>0</td>\n      <td>0</td>\n      <td>0</td>\n      <td>0</td>\n      <td>0</td>\n      <td>0</td>\n      <td>0</td>\n      <td>...</td>\n      <td>0</td>\n      <td>0</td>\n      <td>0</td>\n      <td>0</td>\n      <td>0</td>\n      <td>0</td>\n      <td>0</td>\n      <td>0</td>\n      <td>0</td>\n      <td>0</td>\n    </tr>\n    <tr>\n      <th>3</th>\n      <td>0</td>\n      <td>0</td>\n      <td>0</td>\n      <td>0</td>\n      <td>0</td>\n      <td>0</td>\n      <td>0</td>\n      <td>0</td>\n      <td>0</td>\n      <td>0</td>\n      <td>...</td>\n      <td>0</td>\n      <td>0</td>\n      <td>0</td>\n      <td>0</td>\n      <td>0</td>\n      <td>0</td>\n      <td>0</td>\n      <td>0</td>\n      <td>0</td>\n      <td>0</td>\n    </tr>\n    <tr>\n      <th>4</th>\n      <td>0</td>\n      <td>0</td>\n      <td>0</td>\n      <td>0</td>\n      <td>0</td>\n      <td>0</td>\n      <td>0</td>\n      <td>0</td>\n      <td>0</td>\n      <td>0</td>\n      <td>...</td>\n      <td>0</td>\n      <td>0</td>\n      <td>0</td>\n      <td>0</td>\n      <td>0</td>\n      <td>0</td>\n      <td>0</td>\n      <td>0</td>\n      <td>0</td>\n      <td>0</td>\n    </tr>\n  </tbody>\n</table>\n<p>5 rows \u00d7 273 columns</p>\n</div>",
                        "text/plain": "   Yoga Studio  Accessories Store  Adult Boutique  Airport  \\\n0            0                  0               0        0   \n1            0                  0               0        0   \n2            0                  0               0        0   \n3            0                  0               0        0   \n4            0                  0               0        0   \n\n   Airport Food Court  Airport Gate  Airport Lounge  Airport Service  \\\n0                   0             0               0                0   \n1                   0             0               0                0   \n2                   0             0               0                0   \n3                   0             0               0                0   \n4                   0             0               0                0   \n\n   Airport Terminal  American Restaurant  ...  Truck Stop  Turkish Restaurant  \\\n0                 0                    0  ...           0                   0   \n1                 0                    0  ...           0                   0   \n2                 0                    0  ...           0                   0   \n3                 0                    0  ...           0                   0   \n4                 0                    0  ...           0                   0   \n\n   Vegetarian / Vegan Restaurant  Video Game Store  Video Store  \\\n0                              0                 0            0   \n1                              0                 0            0   \n2                              0                 0            0   \n3                              0                 0            0   \n4                              0                 0            0   \n\n   Vietnamese Restaurant  Warehouse Store  Wine Bar  Wings Joint  \\\n0                      0                0         0            0   \n1                      0                0         0            0   \n2                      0                0         0            0   \n3                      0                0         0            0   \n4                      0                0         0            0   \n\n   Women's Store  \n0              0  \n1              0  \n2              0  \n3              0  \n4              0  \n\n[5 rows x 273 columns]"
                    },
                    "execution_count": 216,
                    "metadata": {},
                    "output_type": "execute_result"
                }
            ],
            "source": "# one hot encoding\ntorronto_onehot = pd.get_dummies(torronto_venues[['Venue Category']], prefix=\"\", prefix_sep=\"\")\n\n# add neighborhood column back to dataframe\ntorronto_onehot['Neighborhood'] = torronto_venues['Neighborhood'] \n#df_onehot=pd.concat([torronto_venues['Neighborhood'], torronto_onehot], axis=1)\n\n# move neighborhood column to the first column\nfixed_columns = [torronto_onehot.columns[-1]] + list(torronto_onehot.columns[:-1])\ntorronto_onehot = torronto_onehot[fixed_columns]\n\ntorronto_onehot.head()\n"
        },
        {
            "cell_type": "code",
            "execution_count": 205,
            "metadata": {},
            "outputs": [
                {
                    "data": {
                        "text/plain": "(2114, 274)"
                    },
                    "execution_count": 205,
                    "metadata": {},
                    "output_type": "execute_result"
                }
            ],
            "source": "df_onehot.shape"
        },
        {
            "cell_type": "code",
            "execution_count": 217,
            "metadata": {},
            "outputs": [
                {
                    "data": {
                        "text/html": "<div>\n<style scoped>\n    .dataframe tbody tr th:only-of-type {\n        vertical-align: middle;\n    }\n\n    .dataframe tbody tr th {\n        vertical-align: top;\n    }\n\n    .dataframe thead th {\n        text-align: right;\n    }\n</style>\n<table border=\"1\" class=\"dataframe\">\n  <thead>\n    <tr style=\"text-align: right;\">\n      <th></th>\n      <th>Neighborhood</th>\n      <th>Yoga Studio</th>\n      <th>Accessories Store</th>\n      <th>Adult Boutique</th>\n      <th>Airport</th>\n      <th>Airport Food Court</th>\n      <th>Airport Gate</th>\n      <th>Airport Lounge</th>\n      <th>Airport Service</th>\n      <th>Airport Terminal</th>\n      <th>...</th>\n      <th>Truck Stop</th>\n      <th>Turkish Restaurant</th>\n      <th>Vegetarian / Vegan Restaurant</th>\n      <th>Video Game Store</th>\n      <th>Video Store</th>\n      <th>Vietnamese Restaurant</th>\n      <th>Warehouse Store</th>\n      <th>Wine Bar</th>\n      <th>Wings Joint</th>\n      <th>Women's Store</th>\n    </tr>\n  </thead>\n  <tbody>\n    <tr>\n      <th>0</th>\n      <td>Agincourt</td>\n      <td>0.0</td>\n      <td>0.0</td>\n      <td>0.0</td>\n      <td>0.0</td>\n      <td>0.0</td>\n      <td>0.0</td>\n      <td>0.0</td>\n      <td>0.0</td>\n      <td>0.0</td>\n      <td>...</td>\n      <td>0.0</td>\n      <td>0.0</td>\n      <td>0.0</td>\n      <td>0.0</td>\n      <td>0.0</td>\n      <td>0.000000</td>\n      <td>0.0</td>\n      <td>0.0</td>\n      <td>0.0</td>\n      <td>0.000000</td>\n    </tr>\n    <tr>\n      <th>1</th>\n      <td>Alderwood, Long Branch</td>\n      <td>0.0</td>\n      <td>0.0</td>\n      <td>0.0</td>\n      <td>0.0</td>\n      <td>0.0</td>\n      <td>0.0</td>\n      <td>0.0</td>\n      <td>0.0</td>\n      <td>0.0</td>\n      <td>...</td>\n      <td>0.0</td>\n      <td>0.0</td>\n      <td>0.0</td>\n      <td>0.0</td>\n      <td>0.0</td>\n      <td>0.000000</td>\n      <td>0.0</td>\n      <td>0.0</td>\n      <td>0.0</td>\n      <td>0.000000</td>\n    </tr>\n    <tr>\n      <th>2</th>\n      <td>Bathurst Manor, Wilson Heights, Downsview North</td>\n      <td>0.0</td>\n      <td>0.0</td>\n      <td>0.0</td>\n      <td>0.0</td>\n      <td>0.0</td>\n      <td>0.0</td>\n      <td>0.0</td>\n      <td>0.0</td>\n      <td>0.0</td>\n      <td>...</td>\n      <td>0.0</td>\n      <td>0.0</td>\n      <td>0.0</td>\n      <td>0.0</td>\n      <td>0.0</td>\n      <td>0.000000</td>\n      <td>0.0</td>\n      <td>0.0</td>\n      <td>0.0</td>\n      <td>0.000000</td>\n    </tr>\n    <tr>\n      <th>3</th>\n      <td>Bayview Village</td>\n      <td>0.0</td>\n      <td>0.0</td>\n      <td>0.0</td>\n      <td>0.0</td>\n      <td>0.0</td>\n      <td>0.0</td>\n      <td>0.0</td>\n      <td>0.0</td>\n      <td>0.0</td>\n      <td>...</td>\n      <td>0.0</td>\n      <td>0.0</td>\n      <td>0.0</td>\n      <td>0.0</td>\n      <td>0.0</td>\n      <td>0.000000</td>\n      <td>0.0</td>\n      <td>0.0</td>\n      <td>0.0</td>\n      <td>0.000000</td>\n    </tr>\n    <tr>\n      <th>4</th>\n      <td>Bedford Park, Lawrence Manor East</td>\n      <td>0.0</td>\n      <td>0.0</td>\n      <td>0.0</td>\n      <td>0.0</td>\n      <td>0.0</td>\n      <td>0.0</td>\n      <td>0.0</td>\n      <td>0.0</td>\n      <td>0.0</td>\n      <td>...</td>\n      <td>0.0</td>\n      <td>0.0</td>\n      <td>0.0</td>\n      <td>0.0</td>\n      <td>0.0</td>\n      <td>0.000000</td>\n      <td>0.0</td>\n      <td>0.0</td>\n      <td>0.0</td>\n      <td>0.043478</td>\n    </tr>\n    <tr>\n      <th>...</th>\n      <td>...</td>\n      <td>...</td>\n      <td>...</td>\n      <td>...</td>\n      <td>...</td>\n      <td>...</td>\n      <td>...</td>\n      <td>...</td>\n      <td>...</td>\n      <td>...</td>\n      <td>...</td>\n      <td>...</td>\n      <td>...</td>\n      <td>...</td>\n      <td>...</td>\n      <td>...</td>\n      <td>...</td>\n      <td>...</td>\n      <td>...</td>\n      <td>...</td>\n      <td>...</td>\n    </tr>\n    <tr>\n      <th>91</th>\n      <td>Willowdale, Willowdale East</td>\n      <td>0.0</td>\n      <td>0.0</td>\n      <td>0.0</td>\n      <td>0.0</td>\n      <td>0.0</td>\n      <td>0.0</td>\n      <td>0.0</td>\n      <td>0.0</td>\n      <td>0.0</td>\n      <td>...</td>\n      <td>0.0</td>\n      <td>0.0</td>\n      <td>0.0</td>\n      <td>0.0</td>\n      <td>0.0</td>\n      <td>0.028571</td>\n      <td>0.0</td>\n      <td>0.0</td>\n      <td>0.0</td>\n      <td>0.000000</td>\n    </tr>\n    <tr>\n      <th>92</th>\n      <td>Willowdale, Willowdale West</td>\n      <td>0.0</td>\n      <td>0.0</td>\n      <td>0.0</td>\n      <td>0.0</td>\n      <td>0.0</td>\n      <td>0.0</td>\n      <td>0.0</td>\n      <td>0.0</td>\n      <td>0.0</td>\n      <td>...</td>\n      <td>0.0</td>\n      <td>0.0</td>\n      <td>0.0</td>\n      <td>0.0</td>\n      <td>0.0</td>\n      <td>0.000000</td>\n      <td>0.0</td>\n      <td>0.0</td>\n      <td>0.0</td>\n      <td>0.000000</td>\n    </tr>\n    <tr>\n      <th>93</th>\n      <td>Woburn</td>\n      <td>0.0</td>\n      <td>0.0</td>\n      <td>0.0</td>\n      <td>0.0</td>\n      <td>0.0</td>\n      <td>0.0</td>\n      <td>0.0</td>\n      <td>0.0</td>\n      <td>0.0</td>\n      <td>...</td>\n      <td>0.0</td>\n      <td>0.0</td>\n      <td>0.0</td>\n      <td>0.0</td>\n      <td>0.0</td>\n      <td>0.000000</td>\n      <td>0.0</td>\n      <td>0.0</td>\n      <td>0.0</td>\n      <td>0.000000</td>\n    </tr>\n    <tr>\n      <th>94</th>\n      <td>Woodbine Heights</td>\n      <td>0.0</td>\n      <td>0.0</td>\n      <td>0.0</td>\n      <td>0.0</td>\n      <td>0.0</td>\n      <td>0.0</td>\n      <td>0.0</td>\n      <td>0.0</td>\n      <td>0.0</td>\n      <td>...</td>\n      <td>0.0</td>\n      <td>0.0</td>\n      <td>0.0</td>\n      <td>0.0</td>\n      <td>0.0</td>\n      <td>0.000000</td>\n      <td>0.0</td>\n      <td>0.0</td>\n      <td>0.0</td>\n      <td>0.000000</td>\n    </tr>\n    <tr>\n      <th>95</th>\n      <td>York Mills West</td>\n      <td>0.0</td>\n      <td>0.0</td>\n      <td>0.0</td>\n      <td>0.0</td>\n      <td>0.0</td>\n      <td>0.0</td>\n      <td>0.0</td>\n      <td>0.0</td>\n      <td>0.0</td>\n      <td>...</td>\n      <td>0.0</td>\n      <td>0.0</td>\n      <td>0.0</td>\n      <td>0.0</td>\n      <td>0.0</td>\n      <td>0.000000</td>\n      <td>0.0</td>\n      <td>0.0</td>\n      <td>0.0</td>\n      <td>0.000000</td>\n    </tr>\n  </tbody>\n</table>\n<p>96 rows \u00d7 273 columns</p>\n</div>",
                        "text/plain": "                                       Neighborhood  Yoga Studio  \\\n0                                         Agincourt          0.0   \n1                            Alderwood, Long Branch          0.0   \n2   Bathurst Manor, Wilson Heights, Downsview North          0.0   \n3                                   Bayview Village          0.0   \n4                 Bedford Park, Lawrence Manor East          0.0   \n..                                              ...          ...   \n91                      Willowdale, Willowdale East          0.0   \n92                      Willowdale, Willowdale West          0.0   \n93                                           Woburn          0.0   \n94                                 Woodbine Heights          0.0   \n95                                  York Mills West          0.0   \n\n    Accessories Store  Adult Boutique  Airport  Airport Food Court  \\\n0                 0.0             0.0      0.0                 0.0   \n1                 0.0             0.0      0.0                 0.0   \n2                 0.0             0.0      0.0                 0.0   \n3                 0.0             0.0      0.0                 0.0   \n4                 0.0             0.0      0.0                 0.0   \n..                ...             ...      ...                 ...   \n91                0.0             0.0      0.0                 0.0   \n92                0.0             0.0      0.0                 0.0   \n93                0.0             0.0      0.0                 0.0   \n94                0.0             0.0      0.0                 0.0   \n95                0.0             0.0      0.0                 0.0   \n\n    Airport Gate  Airport Lounge  Airport Service  Airport Terminal  ...  \\\n0            0.0             0.0              0.0               0.0  ...   \n1            0.0             0.0              0.0               0.0  ...   \n2            0.0             0.0              0.0               0.0  ...   \n3            0.0             0.0              0.0               0.0  ...   \n4            0.0             0.0              0.0               0.0  ...   \n..           ...             ...              ...               ...  ...   \n91           0.0             0.0              0.0               0.0  ...   \n92           0.0             0.0              0.0               0.0  ...   \n93           0.0             0.0              0.0               0.0  ...   \n94           0.0             0.0              0.0               0.0  ...   \n95           0.0             0.0              0.0               0.0  ...   \n\n    Truck Stop  Turkish Restaurant  Vegetarian / Vegan Restaurant  \\\n0          0.0                 0.0                            0.0   \n1          0.0                 0.0                            0.0   \n2          0.0                 0.0                            0.0   \n3          0.0                 0.0                            0.0   \n4          0.0                 0.0                            0.0   \n..         ...                 ...                            ...   \n91         0.0                 0.0                            0.0   \n92         0.0                 0.0                            0.0   \n93         0.0                 0.0                            0.0   \n94         0.0                 0.0                            0.0   \n95         0.0                 0.0                            0.0   \n\n    Video Game Store  Video Store  Vietnamese Restaurant  Warehouse Store  \\\n0                0.0          0.0               0.000000              0.0   \n1                0.0          0.0               0.000000              0.0   \n2                0.0          0.0               0.000000              0.0   \n3                0.0          0.0               0.000000              0.0   \n4                0.0          0.0               0.000000              0.0   \n..               ...          ...                    ...              ...   \n91               0.0          0.0               0.028571              0.0   \n92               0.0          0.0               0.000000              0.0   \n93               0.0          0.0               0.000000              0.0   \n94               0.0          0.0               0.000000              0.0   \n95               0.0          0.0               0.000000              0.0   \n\n    Wine Bar  Wings Joint  Women's Store  \n0        0.0          0.0       0.000000  \n1        0.0          0.0       0.000000  \n2        0.0          0.0       0.000000  \n3        0.0          0.0       0.000000  \n4        0.0          0.0       0.043478  \n..       ...          ...            ...  \n91       0.0          0.0       0.000000  \n92       0.0          0.0       0.000000  \n93       0.0          0.0       0.000000  \n94       0.0          0.0       0.000000  \n95       0.0          0.0       0.000000  \n\n[96 rows x 273 columns]"
                    },
                    "execution_count": 217,
                    "metadata": {},
                    "output_type": "execute_result"
                }
            ],
            "source": "#df_onehot.columns = df_onehot.columns.get_level_values(0)\ntor_group = torronto_onehot.groupby('Neighborhood').mean().reset_index()\ntor_group"
        },
        {
            "cell_type": "markdown",
            "metadata": {},
            "source": "### Clustering K means"
        },
        {
            "cell_type": "code",
            "execution_count": 220,
            "metadata": {},
            "outputs": [
                {
                    "data": {
                        "text/plain": "array([0, 0, 0, 0, 0, 0, 0, 0, 0, 0, 2, 0, 0, 0, 0, 0, 0, 0, 0, 0, 0, 0,\n       0, 0, 0, 0, 2, 0, 0, 0, 0, 0, 0, 0, 0, 0, 0, 0, 0, 3, 0, 0, 0, 0,\n       2, 0, 2, 0, 0, 0, 0, 0, 4, 0, 0, 0, 0, 0, 3, 0, 0, 2, 0, 0, 0, 2,\n       0, 1, 0, 0, 0, 0, 0, 0, 0, 0, 0, 0, 0, 0, 0, 2, 0, 0, 0, 0, 0, 0,\n       2, 0, 2, 0, 0, 0, 0, 2], dtype=int32)"
                    },
                    "execution_count": 220,
                    "metadata": {},
                    "output_type": "execute_result"
                }
            ],
            "source": "from sklearn.cluster import KMeans\n\n# set number of clusters\nkclusters = 5\n\ntor_grouped_clustering = tor_group.drop('Neighborhood', 1)\n\n# run k-means clustering\nkmeans = KMeans(n_clusters=kclusters, random_state=0).fit(tor_grouped_clustering)\n\n# check cluster labels generated for each row in the dataframe\nkmeans.labels_"
        },
        {
            "cell_type": "code",
            "execution_count": 261,
            "metadata": {},
            "outputs": [
                {
                    "data": {
                        "text/html": "<div>\n<style scoped>\n    .dataframe tbody tr th:only-of-type {\n        vertical-align: middle;\n    }\n\n    .dataframe tbody tr th {\n        vertical-align: top;\n    }\n\n    .dataframe thead th {\n        text-align: right;\n    }\n</style>\n<table border=\"1\" class=\"dataframe\">\n  <thead>\n    <tr style=\"text-align: right;\">\n      <th></th>\n      <th>Neighborhood</th>\n      <th>Cluster Labels</th>\n    </tr>\n  </thead>\n  <tbody>\n    <tr>\n      <th>0</th>\n      <td>Agincourt</td>\n      <td>0</td>\n    </tr>\n    <tr>\n      <th>1</th>\n      <td>Alderwood, Long Branch</td>\n      <td>0</td>\n    </tr>\n    <tr>\n      <th>2</th>\n      <td>Bathurst Manor, Wilson Heights, Downsview North</td>\n      <td>0</td>\n    </tr>\n    <tr>\n      <th>3</th>\n      <td>Bayview Village</td>\n      <td>0</td>\n    </tr>\n    <tr>\n      <th>4</th>\n      <td>Bedford Park, Lawrence Manor East</td>\n      <td>0</td>\n    </tr>\n  </tbody>\n</table>\n</div>",
                        "text/plain": "                                      Neighborhood  Cluster Labels\n0                                        Agincourt               0\n1                           Alderwood, Long Branch               0\n2  Bathurst Manor, Wilson Heights, Downsview North               0\n3                                  Bayview Village               0\n4                Bedford Park, Lawrence Manor East               0"
                    },
                    "execution_count": 261,
                    "metadata": {},
                    "output_type": "execute_result"
                }
            ],
            "source": "tor_group_lab=tor_group[['Neighborhood','Cluster Labels']]\ntor_group_lab.head()"
        },
        {
            "cell_type": "code",
            "execution_count": 262,
            "metadata": {},
            "outputs": [],
            "source": "tor_group_lab = tor_group_lab.join(df_coord.set_index('Neighbourhood'), on='Neighborhood')\n"
        },
        {
            "cell_type": "code",
            "execution_count": 263,
            "metadata": {},
            "outputs": [
                {
                    "data": {
                        "text/html": "<div>\n<style scoped>\n    .dataframe tbody tr th:only-of-type {\n        vertical-align: middle;\n    }\n\n    .dataframe tbody tr th {\n        vertical-align: top;\n    }\n\n    .dataframe thead th {\n        text-align: right;\n    }\n</style>\n<table border=\"1\" class=\"dataframe\">\n  <thead>\n    <tr style=\"text-align: right;\">\n      <th></th>\n      <th>Neighborhood</th>\n      <th>Cluster Labels</th>\n      <th>Postal Code</th>\n      <th>Borough</th>\n      <th>latitude</th>\n      <th>longitude</th>\n    </tr>\n  </thead>\n  <tbody>\n    <tr>\n      <th>0</th>\n      <td>Agincourt</td>\n      <td>0</td>\n      <td>M1S</td>\n      <td>Scarborough</td>\n      <td>43.794200</td>\n      <td>-79.262029</td>\n    </tr>\n    <tr>\n      <th>1</th>\n      <td>Alderwood, Long Branch</td>\n      <td>0</td>\n      <td>M8W</td>\n      <td>Etobicoke</td>\n      <td>43.602414</td>\n      <td>-79.543484</td>\n    </tr>\n    <tr>\n      <th>2</th>\n      <td>Bathurst Manor, Wilson Heights, Downsview North</td>\n      <td>0</td>\n      <td>M3H</td>\n      <td>North York</td>\n      <td>43.754328</td>\n      <td>-79.442259</td>\n    </tr>\n    <tr>\n      <th>3</th>\n      <td>Bayview Village</td>\n      <td>0</td>\n      <td>M2K</td>\n      <td>North York</td>\n      <td>43.786947</td>\n      <td>-79.385975</td>\n    </tr>\n    <tr>\n      <th>4</th>\n      <td>Bedford Park, Lawrence Manor East</td>\n      <td>0</td>\n      <td>M5M</td>\n      <td>North York</td>\n      <td>43.733283</td>\n      <td>-79.419750</td>\n    </tr>\n  </tbody>\n</table>\n</div>",
                        "text/plain": "                                      Neighborhood  Cluster Labels  \\\n0                                        Agincourt               0   \n1                           Alderwood, Long Branch               0   \n2  Bathurst Manor, Wilson Heights, Downsview North               0   \n3                                  Bayview Village               0   \n4                Bedford Park, Lawrence Manor East               0   \n\n  Postal Code      Borough   latitude  longitude  \n0         M1S  Scarborough  43.794200 -79.262029  \n1         M8W    Etobicoke  43.602414 -79.543484  \n2         M3H   North York  43.754328 -79.442259  \n3         M2K   North York  43.786947 -79.385975  \n4         M5M   North York  43.733283 -79.419750  "
                    },
                    "execution_count": 263,
                    "metadata": {},
                    "output_type": "execute_result"
                }
            ],
            "source": "tor_group_lab.head()"
        },
        {
            "cell_type": "code",
            "execution_count": null,
            "metadata": {},
            "outputs": [],
            "source": "# create map\nmap_clusters = folium.Map(location=[43.651070, longitude], zoom_start=11)\n\n# set color scheme for the clusters\nx = np.arange(kclusters)\nys = [i + x + (i*x)**2 for i in range(kclusters)]\ncolors_array = cm.rainbow(np.linspace(0, 1, len(ys)))\nrainbow = [colors.rgb2hex(i) for i in colors_array]\n\n# add markers to the map\nmarkers_colors = []\nfor lat, lon, poi, cluster in zip(tor_group_lab['latitude'], tor_group_lab['longitude'], tor_group_lab['Neighborhood'], tor_group_lab['Cluster Labels']):\n    label = folium.Popup(str(poi) + ' Cluster ' + str(cluster), parse_html=True)\n    folium.CircleMarker(\n        [lat, lon],\n        radius=5,\n        popup=label,\n        color=rainbow[cluster-1],\n        fill=True,\n        fill_color=rainbow[cluster-1],\n        fill_opacity=0.7).add_to(map_clusters)\n       \nmap_clusters"
        },
        {
            "cell_type": "code",
            "execution_count": null,
            "metadata": {},
            "outputs": [],
            "source": ""
        }
    ],
    "metadata": {
        "kernelspec": {
            "display_name": "Python 3.7",
            "language": "python",
            "name": "python3"
        },
        "language_info": {
            "codemirror_mode": {
                "name": "ipython",
                "version": 3
            },
            "file_extension": ".py",
            "mimetype": "text/x-python",
            "name": "python",
            "nbconvert_exporter": "python",
            "pygments_lexer": "ipython3",
            "version": "3.7.9"
        }
    },
    "nbformat": 4,
    "nbformat_minor": 1
}